{
 "cells": [
  {
   "cell_type": "code",
   "execution_count": 5,
   "id": "81b3cb76-0cb2-42df-b435-aefcaaf66650",
   "metadata": {},
   "outputs": [
    {
     "name": "stdout",
     "output_type": "stream",
     "text": [
      "Collecting mysql-connector-python\n",
      "  Downloading mysql_connector_python-9.3.0-cp313-cp313-win_amd64.whl.metadata (7.7 kB)\n",
      "Downloading mysql_connector_python-9.3.0-cp313-cp313-win_amd64.whl (16.4 MB)\n",
      "   ---------------------------------------- 0.0/16.4 MB ? eta -:--:--\n",
      "    --------------------------------------- 0.3/16.4 MB ? eta -:--:--\n",
      "   - -------------------------------------- 0.5/16.4 MB 1.8 MB/s eta 0:00:10\n",
      "   - -------------------------------------- 0.8/16.4 MB 1.4 MB/s eta 0:00:12\n",
      "   -- ------------------------------------- 1.0/16.4 MB 1.4 MB/s eta 0:00:11\n",
      "   --- ------------------------------------ 1.6/16.4 MB 1.5 MB/s eta 0:00:10\n",
      "   ----- ---------------------------------- 2.1/16.4 MB 1.8 MB/s eta 0:00:08\n",
      "   ------- -------------------------------- 2.9/16.4 MB 2.0 MB/s eta 0:00:07\n",
      "   ------- -------------------------------- 3.1/16.4 MB 2.1 MB/s eta 0:00:07\n",
      "   -------- ------------------------------- 3.7/16.4 MB 2.1 MB/s eta 0:00:07\n",
      "   --------- ------------------------------ 3.9/16.4 MB 2.1 MB/s eta 0:00:07\n",
      "   ---------- ----------------------------- 4.5/16.4 MB 2.0 MB/s eta 0:00:06\n",
      "   ------------ --------------------------- 5.0/16.4 MB 2.0 MB/s eta 0:00:06\n",
      "   -------------- ------------------------- 5.8/16.4 MB 2.2 MB/s eta 0:00:05\n",
      "   --------------- ------------------------ 6.3/16.4 MB 2.2 MB/s eta 0:00:05\n",
      "   ---------------- ----------------------- 6.6/16.4 MB 2.2 MB/s eta 0:00:05\n",
      "   ----------------- ---------------------- 7.1/16.4 MB 2.2 MB/s eta 0:00:05\n",
      "   ----------------- ---------------------- 7.3/16.4 MB 2.1 MB/s eta 0:00:05\n",
      "   ------------------- -------------------- 7.9/16.4 MB 2.1 MB/s eta 0:00:04\n",
      "   ------------------- -------------------- 8.1/16.4 MB 2.1 MB/s eta 0:00:04\n",
      "   -------------------- ------------------- 8.4/16.4 MB 2.1 MB/s eta 0:00:04\n",
      "   --------------------- ------------------ 8.9/16.4 MB 2.1 MB/s eta 0:00:04\n",
      "   --------------------- ------------------ 8.9/16.4 MB 2.1 MB/s eta 0:00:04\n",
      "   ----------------------- ---------------- 9.4/16.4 MB 2.0 MB/s eta 0:00:04\n",
      "   ----------------------- ---------------- 9.7/16.4 MB 2.0 MB/s eta 0:00:04\n",
      "   ------------------------ --------------- 10.0/16.4 MB 1.9 MB/s eta 0:00:04\n",
      "   ------------------------- -------------- 10.5/16.4 MB 2.0 MB/s eta 0:00:04\n",
      "   -------------------------- ------------- 11.0/16.4 MB 2.0 MB/s eta 0:00:03\n",
      "   ---------------------------- ----------- 11.8/16.4 MB 2.0 MB/s eta 0:00:03\n",
      "   ------------------------------ --------- 12.3/16.4 MB 2.0 MB/s eta 0:00:02\n",
      "   ------------------------------ --------- 12.6/16.4 MB 2.0 MB/s eta 0:00:02\n",
      "   ------------------------------- -------- 12.8/16.4 MB 2.0 MB/s eta 0:00:02\n",
      "   -------------------------------- ------- 13.4/16.4 MB 2.0 MB/s eta 0:00:02\n",
      "   --------------------------------- ------ 13.6/16.4 MB 2.0 MB/s eta 0:00:02\n",
      "   --------------------------------- ------ 13.9/16.4 MB 2.0 MB/s eta 0:00:02\n",
      "   ----------------------------------- ---- 14.4/16.4 MB 2.0 MB/s eta 0:00:01\n",
      "   ------------------------------------- -- 15.2/16.4 MB 2.0 MB/s eta 0:00:01\n",
      "   -------------------------------------- - 15.7/16.4 MB 2.1 MB/s eta 0:00:01\n",
      "   ---------------------------------------  16.3/16.4 MB 2.1 MB/s eta 0:00:01\n",
      "   ---------------------------------------- 16.4/16.4 MB 2.1 MB/s eta 0:00:00\n",
      "Installing collected packages: mysql-connector-python\n",
      "Successfully installed mysql-connector-python-9.3.0\n"
     ]
    }
   ],
   "source": [
    "!pip install mysql-connector-python"
   ]
  },
  {
   "cell_type": "code",
   "execution_count": 6,
   "id": "2a51b9b9-9766-46b3-97f6-53cf072f485e",
   "metadata": {},
   "outputs": [],
   "source": [
    "import mysql.connector"
   ]
  },
  {
   "cell_type": "code",
   "execution_count": 10,
   "id": "ec123dbc-7d69-4dcd-8ba0-ce781a1ef4ea",
   "metadata": {},
   "outputs": [
    {
     "name": "stdout",
     "output_type": "stream",
     "text": [
      "<mysql.connector.connection_cext.CMySQLConnection object at 0x000001D8953AFD90>\n"
     ]
    }
   ],
   "source": [
    "mydb=mysql.connector.connect(\n",
    "    host=\"localhost\",\n",
    "    user='rooter',\n",
    "    password='rooter',\n",
    "    #database='employees'\n",
    ")\n",
    "print(mydb)"
   ]
  },
  {
   "cell_type": "code",
   "execution_count": 30,
   "id": "859be3b1-2a99-4f50-ad5b-74d486f1ad9b",
   "metadata": {},
   "outputs": [],
   "source": [
    "cursor=mydb.cursor()"
   ]
  },
  {
   "cell_type": "code",
   "execution_count": 38,
   "id": "ab76993f-cd66-430f-8e57-9ec2777a2544",
   "metadata": {},
   "outputs": [],
   "source": [
    "sql = \"CREATE DATABASE IF NOT EXISTS employee\"\n",
    "cursor.execute(sql)"
   ]
  },
  {
   "cell_type": "code",
   "execution_count": 48,
   "id": "0b8a2c35-0cea-414a-92aa-42dbdf84bc05",
   "metadata": {},
   "outputs": [],
   "source": [
    "sql = \"\"\"\n",
    "CREATE TABLE IF NOT EXISTS salary (\n",
    "    empid INT,\n",
    "    firstname VARCHAR(100),\n",
    "    lastname VARCHAR(100),\n",
    "    email VARCHAR(50),\n",
    "    phone VARCHAR(15),\n",
    "    hire_date DATE,\n",
    "    job_id VARCHAR(15),\n",
    "    salary INT\n",
    ")\n",
    "\"\"\""
   ]
  },
  {
   "cell_type": "code",
   "execution_count": 47,
   "id": "265c0e62-44c5-442f-a67e-2e9c96b6bda2",
   "metadata": {},
   "outputs": [],
   "source": [
    "cursor.execute(sql)"
   ]
  },
  {
   "cell_type": "code",
   "execution_count": 18,
   "id": "835bccba-c5c9-421f-a27c-82b7a5847627",
   "metadata": {},
   "outputs": [],
   "source": [
    "import csv \n",
    "import datetime \n",
    "filename=\"employees1.csv\" "
   ]
  },
  {
   "cell_type": "code",
   "execution_count": 50,
   "id": "9432e992-69cd-4c97-8978-a1e209c7be98",
   "metadata": {},
   "outputs": [
    {
     "name": "stdout",
     "output_type": "stream",
     "text": [
      "Data inserted successfully\n"
     ]
    }
   ],
   "source": [
    "with open(filename, 'r') as csvfile: \n",
    "    csvreader = csv.reader(csvfile) \n",
    "    header = next(csvreader)  \n",
    "\n",
    "    for row in csvreader: \n",
    "        empid = int(row[0]) \n",
    "        firstname = row[1] \n",
    "        lastname = row[2] \n",
    "        email = row[3] \n",
    "        phone = row[4] \n",
    "        hire_date = datetime.datetime.strptime(row[5], '%d-%b-%y').date() \n",
    "        job_id = row[6] \n",
    "        salary = int(row[7]) \n",
    "\n",
    "        sql = \"\"\"INSERT INTO salary\n",
    "        (empid, firstname, lastname, email, phone, hire_date, job_id, salary)\n",
    "        VALUES (%s, %s, %s, %s, %s, %s, %s, %s)\"\"\"\n",
    "        \n",
    "        val = (empid, firstname, lastname, email, phone, hire_date, job_id, salary)\n",
    "        cursor.execute(sql, val)\n",
    "\n",
    "mydb.commit()\n",
    "print(\"Data inserted successfully\")"
   ]
  },
  {
   "cell_type": "code",
   "execution_count": null,
   "id": "9feb6703-84f3-4a16-af4f-6f0877ff49ab",
   "metadata": {},
   "outputs": [],
   "source": []
  }
 ],
 "metadata": {
  "kernelspec": {
   "display_name": "Python [conda env:base] *",
   "language": "python",
   "name": "conda-base-py"
  },
  "language_info": {
   "codemirror_mode": {
    "name": "ipython",
    "version": 3
   },
   "file_extension": ".py",
   "mimetype": "text/x-python",
   "name": "python",
   "nbconvert_exporter": "python",
   "pygments_lexer": "ipython3",
   "version": "3.13.5"
  }
 },
 "nbformat": 4,
 "nbformat_minor": 5
}
